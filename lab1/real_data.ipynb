{
 "cells": [
  {
   "cell_type": "code",
   "execution_count": null,
   "metadata": {},
   "outputs": [],
   "source": [
    "import yfinance as yf\n",
    "\n",
    "# Define the ticker symbol\n",
    "ticker_symbol = 'AAPL'  # Example: Apple Inc.\n",
    "\n",
    "# Fetch historical data\n",
    "data = yf.download(ticker_symbol, start='2022-01-01', end='2022-12-31')\n",
    "\n",
    "# Display the first few rows of the data\n",
    "print(data.head())"
   ]
  }
 ],
 "metadata": {
  "language_info": {
   "name": "python"
  }
 },
 "nbformat": 4,
 "nbformat_minor": 2
}
