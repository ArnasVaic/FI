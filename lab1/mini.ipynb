{
 "cells": [
  {
   "cell_type": "code",
   "execution_count": 2,
   "metadata": {},
   "outputs": [],
   "source": [
    "import pandas as pd\n",
    "import numpy as np\n",
    "import datetime\n",
    "dates = pd.date_range('20190214', periods=6)\n",
    "numbers = np.matrix( [[ 101, 103], [105.5, 75], [102, 80.3], [100, 85], [110, 98], [109.6, 125.7 ]] )\n",
    "df = pd.DataFrame(numbers, index=dates, columns=['A','B'])"
   ]
  },
  {
   "cell_type": "code",
   "execution_count": 5,
   "metadata": {},
   "outputs": [
    {
     "data": {
      "text/plain": [
       "A    110.0\n",
       "B     98.0\n",
       "Name: 2019-02-18 00:00:00, dtype: float64"
      ]
     },
     "execution_count": 5,
     "metadata": {},
     "output_type": "execute_result"
    }
   ],
   "source": [
    "# 1. Get entry with index as date '2019-02-18'\n",
    "\n",
    "df.loc['2019-02-18']"
   ]
  },
  {
   "cell_type": "code",
   "execution_count": null,
   "metadata": {},
   "outputs": [
    {
     "data": {
      "text/plain": [
       "A    110.0\n",
       "B     98.0\n",
       "Name: 2019-02-18 00:00:00, dtype: float64"
      ]
     },
     "execution_count": 3,
     "metadata": {},
     "output_type": "execute_result"
    }
   ],
   "source": [
    "# 2. Get with index date datetime.datetime(2019,2,18)\n",
    "date = datetime.datetime(2019,2,18)\n",
    "df.loc[date]"
   ]
  },
  {
   "cell_type": "code",
   "execution_count": null,
   "metadata": {},
   "outputs": [
    {
     "data": {
      "text/html": [
       "<div>\n",
       "<style scoped>\n",
       "    .dataframe tbody tr th:only-of-type {\n",
       "        vertical-align: middle;\n",
       "    }\n",
       "\n",
       "    .dataframe tbody tr th {\n",
       "        vertical-align: top;\n",
       "    }\n",
       "\n",
       "    .dataframe thead th {\n",
       "        text-align: right;\n",
       "    }\n",
       "</style>\n",
       "<table border=\"1\" class=\"dataframe\">\n",
       "  <thead>\n",
       "    <tr style=\"text-align: right;\">\n",
       "      <th></th>\n",
       "      <th>A</th>\n",
       "      <th>B</th>\n",
       "    </tr>\n",
       "  </thead>\n",
       "  <tbody>\n",
       "    <tr>\n",
       "      <th>2019-02-18</th>\n",
       "      <td>110.0</td>\n",
       "      <td>98.0</td>\n",
       "    </tr>\n",
       "  </tbody>\n",
       "</table>\n",
       "</div>"
      ],
      "text/plain": [
       "                A     B\n",
       "2019-02-18  110.0  98.0"
      ]
     },
     "execution_count": 4,
     "metadata": {},
     "output_type": "execute_result"
    }
   ],
   "source": [
    "# 3. Get second row from the back without using index\n",
    "\n",
    "df.tail(2).head(1)"
   ]
  },
  {
   "cell_type": "code",
   "execution_count": null,
   "metadata": {},
   "outputs": [
    {
     "data": {
      "text/plain": [
       "2019-02-14    103.0\n",
       "2019-02-15     75.0\n",
       "Freq: D, Name: B, dtype: float64"
      ]
     },
     "execution_count": 5,
     "metadata": {},
     "output_type": "execute_result"
    }
   ],
   "source": [
    "# 4. Get first two rows ir column B\n",
    "\n",
    "df['B'].head(2)"
   ]
  },
  {
   "cell_type": "code",
   "execution_count": null,
   "metadata": {},
   "outputs": [
    {
     "data": {
      "text/html": [
       "<div>\n",
       "<style scoped>\n",
       "    .dataframe tbody tr th:only-of-type {\n",
       "        vertical-align: middle;\n",
       "    }\n",
       "\n",
       "    .dataframe tbody tr th {\n",
       "        vertical-align: top;\n",
       "    }\n",
       "\n",
       "    .dataframe thead th {\n",
       "        text-align: right;\n",
       "    }\n",
       "</style>\n",
       "<table border=\"1\" class=\"dataframe\">\n",
       "  <thead>\n",
       "    <tr style=\"text-align: right;\">\n",
       "      <th></th>\n",
       "      <th>A</th>\n",
       "      <th>B</th>\n",
       "    </tr>\n",
       "  </thead>\n",
       "  <tbody>\n",
       "    <tr>\n",
       "      <th>2019-02-19</th>\n",
       "      <td>109.6</td>\n",
       "      <td>125.7</td>\n",
       "    </tr>\n",
       "    <tr>\n",
       "      <th>2019-02-14</th>\n",
       "      <td>101.0</td>\n",
       "      <td>103.0</td>\n",
       "    </tr>\n",
       "    <tr>\n",
       "      <th>2019-02-18</th>\n",
       "      <td>110.0</td>\n",
       "      <td>98.0</td>\n",
       "    </tr>\n",
       "    <tr>\n",
       "      <th>2019-02-17</th>\n",
       "      <td>100.0</td>\n",
       "      <td>85.0</td>\n",
       "    </tr>\n",
       "    <tr>\n",
       "      <th>2019-02-16</th>\n",
       "      <td>102.0</td>\n",
       "      <td>80.3</td>\n",
       "    </tr>\n",
       "    <tr>\n",
       "      <th>2019-02-15</th>\n",
       "      <td>105.5</td>\n",
       "      <td>75.0</td>\n",
       "    </tr>\n",
       "  </tbody>\n",
       "</table>\n",
       "</div>"
      ],
      "text/plain": [
       "                A      B\n",
       "2019-02-19  109.6  125.7\n",
       "2019-02-14  101.0  103.0\n",
       "2019-02-18  110.0   98.0\n",
       "2019-02-17  100.0   85.0\n",
       "2019-02-16  102.0   80.3\n",
       "2019-02-15  105.5   75.0"
      ]
     },
     "execution_count": 6,
     "metadata": {},
     "output_type": "execute_result"
    }
   ],
   "source": [
    "# 5. Sort df by values of column 'B' in a descending order\n",
    "\n",
    "df.sort_values(by='B',ascending=False)"
   ]
  },
  {
   "cell_type": "code",
   "execution_count": null,
   "metadata": {},
   "outputs": [
    {
     "data": {
      "text/plain": [
       "110.0"
      ]
     },
     "execution_count": 7,
     "metadata": {},
     "output_type": "execute_result"
    }
   ],
   "source": [
    "# 6. Find max value of column 'A'\n",
    "\n",
    "df['A'].max()"
   ]
  },
  {
   "cell_type": "code",
   "execution_count": null,
   "metadata": {},
   "outputs": [
    {
     "data": {
      "text/html": [
       "<div>\n",
       "<style scoped>\n",
       "    .dataframe tbody tr th:only-of-type {\n",
       "        vertical-align: middle;\n",
       "    }\n",
       "\n",
       "    .dataframe tbody tr th {\n",
       "        vertical-align: top;\n",
       "    }\n",
       "\n",
       "    .dataframe thead th {\n",
       "        text-align: right;\n",
       "    }\n",
       "</style>\n",
       "<table border=\"1\" class=\"dataframe\">\n",
       "  <thead>\n",
       "    <tr style=\"text-align: right;\">\n",
       "      <th></th>\n",
       "      <th>A</th>\n",
       "      <th>B</th>\n",
       "    </tr>\n",
       "  </thead>\n",
       "  <tbody>\n",
       "    <tr>\n",
       "      <th>2019-02-14</th>\n",
       "      <td>101.0</td>\n",
       "      <td>103.0</td>\n",
       "    </tr>\n",
       "    <tr>\n",
       "      <th>2019-02-15</th>\n",
       "      <td>105.5</td>\n",
       "      <td>75.0</td>\n",
       "    </tr>\n",
       "    <tr>\n",
       "      <th>2019-02-16</th>\n",
       "      <td>102.0</td>\n",
       "      <td>80.3</td>\n",
       "    </tr>\n",
       "    <tr>\n",
       "      <th>2019-02-17</th>\n",
       "      <td>100.0</td>\n",
       "      <td>85.0</td>\n",
       "    </tr>\n",
       "    <tr>\n",
       "      <th>2019-02-18</th>\n",
       "      <td>220.0</td>\n",
       "      <td>98.0</td>\n",
       "    </tr>\n",
       "    <tr>\n",
       "      <th>2019-02-19</th>\n",
       "      <td>109.6</td>\n",
       "      <td>125.7</td>\n",
       "    </tr>\n",
       "  </tbody>\n",
       "</table>\n",
       "</div>"
      ],
      "text/plain": [
       "                A      B\n",
       "2019-02-14  101.0  103.0\n",
       "2019-02-15  105.5   75.0\n",
       "2019-02-16  102.0   80.3\n",
       "2019-02-17  100.0   85.0\n",
       "2019-02-18  220.0   98.0\n",
       "2019-02-19  109.6  125.7"
      ]
     },
     "execution_count": 8,
     "metadata": {},
     "output_type": "execute_result"
    }
   ],
   "source": [
    "# 7. Double the value of a cell with the max value\n",
    "# of column 'A' in the same data-frame\n",
    "\n",
    "max = df['A'].max()\n",
    "df['A'] = df['A'].apply(lambda x: 2 * x if x == max else x )\n",
    "df"
   ]
  },
  {
   "cell_type": "code",
   "execution_count": null,
   "metadata": {},
   "outputs": [
    {
     "data": {
      "text/html": [
       "<div>\n",
       "<style scoped>\n",
       "    .dataframe tbody tr th:only-of-type {\n",
       "        vertical-align: middle;\n",
       "    }\n",
       "\n",
       "    .dataframe tbody tr th {\n",
       "        vertical-align: top;\n",
       "    }\n",
       "\n",
       "    .dataframe thead th {\n",
       "        text-align: right;\n",
       "    }\n",
       "</style>\n",
       "<table border=\"1\" class=\"dataframe\">\n",
       "  <thead>\n",
       "    <tr style=\"text-align: right;\">\n",
       "      <th></th>\n",
       "      <th>A</th>\n",
       "      <th>B</th>\n",
       "    </tr>\n",
       "  </thead>\n",
       "  <tbody>\n",
       "    <tr>\n",
       "      <th>2019-02-15</th>\n",
       "      <td>105.5</td>\n",
       "      <td>75.0</td>\n",
       "    </tr>\n",
       "    <tr>\n",
       "      <th>2019-02-18</th>\n",
       "      <td>220.0</td>\n",
       "      <td>98.0</td>\n",
       "    </tr>\n",
       "    <tr>\n",
       "      <th>2019-02-19</th>\n",
       "      <td>109.6</td>\n",
       "      <td>125.7</td>\n",
       "    </tr>\n",
       "  </tbody>\n",
       "</table>\n",
       "</div>"
      ],
      "text/plain": [
       "                A      B\n",
       "2019-02-15  105.5   75.0\n",
       "2019-02-18  220.0   98.0\n",
       "2019-02-19  109.6  125.7"
      ]
     },
     "execution_count": 9,
     "metadata": {},
     "output_type": "execute_result"
    }
   ],
   "source": [
    "# 8. Get rows where value of column 'A' is larger than 105\n",
    "\n",
    "df[df['A'] > 105]"
   ]
  },
  {
   "cell_type": "code",
   "execution_count": null,
   "metadata": {},
   "outputs": [
    {
     "data": {
      "image/png": "[encoded data removed]",
      "text/plain": [
       "<Figure size 640x480 with 1 Axes>"
      ]
     },
     "metadata": {},
     "output_type": "display_data"
    }
   ],
   "source": [
    "# 9. Plot values of column 'A'\n",
    "\n",
    "import matplotlib.pyplot as plt\n",
    "plt.plot(df['A'])\n",
    "plt.show()\n"
   ]
  },
  {
   "cell_type": "code",
   "execution_count": null,
   "metadata": {},
   "outputs": [
    {
     "data": {
      "text/html": [
       "<div>\n",
       "<style scoped>\n",
       "    .dataframe tbody tr th:only-of-type {\n",
       "        vertical-align: middle;\n",
       "    }\n",
       "\n",
       "    .dataframe tbody tr th {\n",
       "        vertical-align: top;\n",
       "    }\n",
       "\n",
       "    .dataframe thead th {\n",
       "        text-align: right;\n",
       "    }\n",
       "</style>\n",
       "<table border=\"1\" class=\"dataframe\">\n",
       "  <thead>\n",
       "    <tr style=\"text-align: right;\">\n",
       "      <th></th>\n",
       "      <th>A</th>\n",
       "      <th>B</th>\n",
       "    </tr>\n",
       "  </thead>\n",
       "  <tbody>\n",
       "    <tr>\n",
       "      <th>2019-02-15</th>\n",
       "      <td>105.5</td>\n",
       "      <td>75.0</td>\n",
       "    </tr>\n",
       "    <tr>\n",
       "      <th>2019-02-16</th>\n",
       "      <td>102.0</td>\n",
       "      <td>80.3</td>\n",
       "    </tr>\n",
       "    <tr>\n",
       "      <th>2019-02-17</th>\n",
       "      <td>100.0</td>\n",
       "      <td>85.0</td>\n",
       "    </tr>\n",
       "    <tr>\n",
       "      <th>2019-02-18</th>\n",
       "      <td>220.0</td>\n",
       "      <td>98.0</td>\n",
       "    </tr>\n",
       "  </tbody>\n",
       "</table>\n",
       "</div>"
      ],
      "text/plain": [
       "                A     B\n",
       "2019-02-15  105.5  75.0\n",
       "2019-02-16  102.0  80.3\n",
       "2019-02-17  100.0  85.0\n",
       "2019-02-18  220.0  98.0"
      ]
     },
     "execution_count": 11,
     "metadata": {},
     "output_type": "execute_result"
    }
   ],
   "source": [
    "# 10. Delete rows where value of column 'B' is larger than\n",
    "# value of column 'A'\n",
    "\n",
    "df[df['B'] <= df['A']]"
   ]
  },
  {
   "cell_type": "code",
   "execution_count": null,
   "metadata": {},
   "outputs": [
    {
     "data": {
      "text/plain": [
       "104"
      ]
     },
     "execution_count": 12,
     "metadata": {},
     "output_type": "execute_result"
    }
   ],
   "source": [
    "import numpy as np\n",
    "\n",
    "# 11. Add two vectors\n",
    "a = np.random.randint(low=1, high=10, size=10)\n",
    "b = np.random.randint(low=1, high=10, size=10)\n",
    "c = 0\n",
    "\n",
    "for i in range(len(a)):\n",
    "    c += a[i] + b[i]\n",
    "\n",
    "c\n"
   ]
  },
  {
   "cell_type": "code",
   "execution_count": null,
   "metadata": {},
   "outputs": [
    {
     "data": {
      "text/plain": [
       "array([ 0, -6,  0,  0,  0, -7, -3, -6,  0,  0])"
      ]
     },
     "execution_count": 13,
     "metadata": {},
     "output_type": "execute_result"
    }
   ],
   "source": [
    "# 12. Set positive elements to 0\n",
    "\n",
    "a = np.random.randint(low=-10, high=10, size=10)\n",
    "\n",
    "for i in range(len(a)):\n",
    "    if a[i] > 0:\n",
    "        a[i] = 0\n",
    "\n",
    "a"
   ]
  },
  {
   "cell_type": "code",
   "execution_count": null,
   "metadata": {},
   "outputs": [
    {
     "data": {
      "text/plain": [
       "array([6., 6., 6., 2., 4., 2., 5., 4.])"
      ]
     },
     "execution_count": 14,
     "metadata": {},
     "output_type": "execute_result"
    }
   ],
   "source": [
    "# 13. Remove elements larger than 6\n",
    "\n",
    "a = np.random.randint(low=1, high=10, size=10)\n",
    "b = []\n",
    "\n",
    "for i in range(len(a)): \n",
    "    if a[i] <= 6:\n",
    "        b = np.append(b, a[i])\n",
    "\n",
    "b"
   ]
  },
  {
   "cell_type": "code",
   "execution_count": null,
   "metadata": {},
   "outputs": [
    {
     "name": "stdout",
     "output_type": "stream",
     "text": [
      "[9 3 8 4 9 5 7 9 8 9]\n",
      "9\n"
     ]
    }
   ],
   "source": [
    "# 14. Print equal neighbors\n",
    "a = np.random.randint(low=1, high=10, size=10)\n",
    "print(a)\n",
    "for i in range(len(a)):\n",
    "    if(a[i] == a[i-1]):\n",
    "        print(a[i])"
   ]
  },
  {
   "cell_type": "code",
   "execution_count": null,
   "metadata": {},
   "outputs": [
    {
     "name": "stdout",
     "output_type": "stream",
     "text": [
      "5\n",
      "8\n",
      "7\n",
      "8\n"
     ]
    }
   ],
   "source": [
    "# 15. Print element from a if it's bigger\n",
    "# element from b with the same index\n",
    "\n",
    "a = np.random.randint(low=1, high=10, size=10)\n",
    "b = np.random.randint(low=1, high=10, size=10)\n",
    "for i in range(len(a)):\n",
    "    if a[i] > b[i]:\n",
    "        print(a[i])"
   ]
  },
  {
   "cell_type": "code",
   "execution_count": null,
   "metadata": {},
   "outputs": [
    {
     "name": "stdout",
     "output_type": "stream",
     "text": [
      "[2 9 9 4 7 8 1 5 3 1]\n",
      "[9 9 4 7 8 1 5 3 2 2]\n"
     ]
    }
   ],
   "source": [
    "# 16. Shift elements and repeat last\n",
    "\n",
    "a = np.random.randint(low=1, high=10, size=10)\n",
    "print(a)\n",
    "for i in range(len(a)):\n",
    "    a[i-1]=a[i]\n",
    "    \n",
    "print(a)"
   ]
  },
  {
   "cell_type": "code",
   "execution_count": null,
   "metadata": {},
   "outputs": [
    {
     "name": "stdout",
     "output_type": "stream",
     "text": [
      "[5 6 2 6 9 6 9 9 4 5]\n",
      "[5 4 9 9 6 9 6 2 6 5]\n"
     ]
    }
   ],
   "source": [
    "# 17. Reverse\n",
    "a = np.random.randint(low=1, high=10, size=10)\n",
    "\n",
    "print(a)\n",
    "\n",
    "for i in range(len(a)//2):\n",
    "    b = a[i]\n",
    "    a[i] = a[len(a) - i - 1]\n",
    "    a[len(a) - i - 1] = b\n",
    "    \n",
    "print(a)\n"
   ]
  },
  {
   "cell_type": "code",
   "execution_count": null,
   "metadata": {},
   "outputs": [
    {
     "name": "stdout",
     "output_type": "stream",
     "text": [
      "[7 4 5 3 9 2 2 4 7 4]\n",
      "[0 4 0 3 0 2 0 4 0 4]\n"
     ]
    }
   ],
   "source": [
    "# 18. Set every other element to zero\n",
    "\n",
    "a = np.random.randint(low=1, high=10, size=10)\n",
    "\n",
    "print(a)\n",
    "\n",
    "for i in range(0, len(a), 2):\n",
    "    a[i] = 0\n",
    "    \n",
    "print(a)"
   ]
  },
  {
   "cell_type": "code",
   "execution_count": 9,
   "metadata": {},
   "outputs": [
    {
     "name": "stdout",
     "output_type": "stream",
     "text": [
      "[[ 0.41620392 -1.61636642 -1.93640992 -0.07908436 -0.82050916 -0.98761568\n",
      "  -0.95959317  0.79506917  1.17126089 -1.00011687 -0.98089892 -0.58029612\n",
      "  -0.63193667  0.52316128 -0.55964705 -1.12207163  0.64690523 -1.24031818\n",
      "   1.54836842 -0.09474004]\n",
      " [ 0.18121059  0.11077427 -0.59715529  1.62632182  0.35073681  0.428187\n",
      "  -0.95192764  0.32783358  1.57746398 -1.26839246  0.42134037 -2.14254599\n",
      "   0.66120475 -0.84942798 -1.78325578  0.18570021  0.28858672 -0.8305401\n",
      "   1.1804918  -0.41914614]\n",
      " [-0.53617033 -2.16403056  0.4061519   0.96128013  0.74095013  1.21715423\n",
      "  -0.5531001  -1.57015189 -0.60065743 -1.49864493  0.11999245 -1.13234498\n",
      "  -0.6113001  -2.1967843  -0.44242166  0.2218163   0.94866486 -0.04875849\n",
      "  -1.10595798 -0.17424808]\n",
      " [-0.27216485  0.39780992  0.80222798  0.71140476  1.60242825 -1.35260125\n",
      "   0.87879194 -0.96710078  0.33477253 -1.47935774 -1.16915707 -0.41415296\n",
      "   1.45497842  0.74568213  1.51874816  0.24552939 -0.11971565 -1.26569545\n",
      "  -0.14911275  1.1284364 ]\n",
      " [ 0.22040234 -1.17283314  0.40640873  0.67725392  0.02842363 -1.37529253\n",
      "   1.21390574 -0.89099854 -0.68119066 -1.17629127 -0.07942361  0.08156785\n",
      "  -0.52361196 -0.04827911 -0.14393151  0.57803915 -2.23474644 -1.16567609\n",
      "   0.84678469 -0.90802253]\n",
      " [ 0.52018533  0.64457672  0.09621923 -0.30671329 -0.83982323  1.79534404\n",
      "  -1.12756828 -0.399537   -0.5051341   0.98783533  0.66321853  0.85932929\n",
      "   1.04292989 -1.35802842 -0.55498929  0.09855076 -1.00944895  0.01673534\n",
      "  -0.04235587 -0.89335337]\n",
      " [-0.3688197  -0.04860735  0.13579602  0.2871549  -0.17696794 -0.37649127\n",
      "   1.36308228  0.0442375   0.62125803  0.71624581 -1.35738921 -0.7058319\n",
      "   0.53425952 -0.3639983   0.5459458  -0.90779166 -0.58774079  0.82768553\n",
      "   0.01212663 -0.34829022]\n",
      " [ 0.99278463  0.05175005 -1.10251102  1.8077752   0.56014521 -1.67141666\n",
      "  -0.14890849 -1.02244753 -0.01188666  2.26160702 -1.47436603  0.29026596\n",
      "  -1.97998781  3.00174483  0.54271038  1.07136483  0.71041     0.50219923\n",
      "  -0.56219258 -0.2224871 ]\n",
      " [-0.69563978 -0.37181262  0.24011592  0.46565422 -0.30344067  0.74534518\n",
      "  -0.58191623 -0.41997884 -0.56164953  2.55104797 -0.34806279  2.04608846\n",
      "   0.5765992  -0.63207003  1.07522309  0.95121719 -0.04871028  1.26592919\n",
      "   1.03300786  0.41079912]\n",
      " [-0.56187082  0.58664394 -0.02861449  0.17539488 -1.21108646  0.65603362\n",
      "   0.18499627  0.98822988 -0.44046906 -1.09185703  1.98224337  0.53039268\n",
      "   0.39013674 -0.7682322   1.20722772 -0.46783577  0.08469406  0.95862386\n",
      "   1.01100942  1.60075581]]\n",
      "-0.3754317643247559\n",
      "-0.07512697370779055\n",
      "-0.400928040092478\n",
      "0.13158756958521584\n",
      "-0.31737556760768254\n",
      "-0.015601365285666514\n",
      "-0.007706816549031094\n",
      "0.17982767249625922\n",
      "0.36988733092036663\n",
      "0.28932082102083045\n"
     ]
    }
   ],
   "source": [
    "# 19. Matrix row averages\n",
    "\n",
    "a = np.random.randn(10, 20)\n",
    "print(a)\n",
    "for i in range(a.shape[0]):\n",
    "    print(np.mean(a[i,:]))\n"
   ]
  },
  {
   "cell_type": "code",
   "execution_count": 7,
   "metadata": {},
   "outputs": [
    {
     "name": "stdout",
     "output_type": "stream",
     "text": [
      "[[ 2.11154561  0.95549554  0.13637411 -0.5793577  -0.43087245  1.47470664\n",
      "   0.49962909  0.82050636  0.39522961  0.62079335]\n",
      " [ 0.4604788  -0.87906986 -1.70753943  0.40669152  0.27362465 -1.0250408\n",
      "  -1.74665117  1.57732009  0.66952901 -0.33934287]\n",
      " [-1.2276889  -1.75460092 -0.60314251  2.14048863  0.56383283  0.67881079\n",
      "   1.16622391  0.59741451 -0.10148478  0.92241314]\n",
      " [-0.0751571   0.99914864  1.34610266  2.16964489  1.70360805 -0.45959871\n",
      "  -1.34854505 -0.43358527  0.88930838 -0.56532258]\n",
      " [-2.13863375  1.39944856  0.14221475 -0.40742127  0.16866132  0.89850574\n",
      "   0.54485675  0.80914122 -0.34903009 -0.493152  ]\n",
      " [-0.01263176 -2.67083173  1.37999533  1.75194154 -1.47420816  0.15839696\n",
      "   2.56126641 -0.68669501  0.18240949 -0.53638231]\n",
      " [ 0.39575512 -0.05624612  0.15699702 -0.05181413  0.71002364  1.63373437\n",
      "   0.76412237  0.61796111  0.82165123 -0.74445585]\n",
      " [ 0.30235415 -1.46778725 -0.19606008 -0.87127698  1.9016601  -0.61325203\n",
      "   0.59334113 -0.39834399  0.16288446 -0.36631808]\n",
      " [ 1.33484052  0.75093302 -0.67984298 -2.95565481 -1.09188642  1.2972996\n",
      "   1.01859345 -1.32774619 -0.44204533  0.32401749]\n",
      " [-0.0309084  -1.35632869  1.06798554 -0.69937618  0.29583476  1.88020894\n",
      "  -0.42733793 -0.13458298 -1.05835255  2.79843701]]\n",
      "2.1115456058404733\n",
      "-0.8790698619544786\n",
      "-0.6031425141259498\n",
      "2.1696448890648004\n",
      "0.16866131878646062\n",
      "0.15839696059525002\n",
      "0.7641223740492656\n",
      "-0.39834398737444915\n",
      "-0.4420453330926589\n",
      "2.798437006076137\n"
     ]
    }
   ],
   "source": [
    "# 20. Print diagonal\n",
    "\n",
    "a = np.random.randn(10, 10)\n",
    "print(a)\n",
    "for i in range(a.shape[0]):\n",
    "    print(a[i,i])"
   ]
  }
 ],
 "metadata": {
  "kernelspec": {
   "display_name": "Python 3",
   "language": "python",
   "name": "python3"
  },
  "language_info": {
   "codemirror_mode": {
    "name": "ipython",
    "version": 3
   },
   "file_extension": ".py",
   "mimetype": "text/x-python",
   "name": "python",
   "nbconvert_exporter": "python",
   "pygments_lexer": "ipython3",
   "version": "3.10.11"
  }
 },
 "nbformat": 4,
 "nbformat_minor": 2
}
