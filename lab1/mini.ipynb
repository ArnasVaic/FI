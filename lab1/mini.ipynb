{
 "cells": [
  {
   "cell_type": "code",
   "execution_count": 1,
   "metadata": {},
   "outputs": [
    {
     "name": "stderr",
     "output_type": "stream",
     "text": [
      "C:\\Users\\Arnas Vaicekauskas\\AppData\\Local\\Temp\\ipykernel_13584\\3818783722.py:1: DeprecationWarning: \n",
      "Pyarrow will become a required dependency of pandas in the next major release of pandas (pandas 3.0),\n",
      "(to allow more performant data types, such as the Arrow string type, and better interoperability with other libraries)\n",
      "but was not found to be installed on your system.\n",
      "If this would cause problems for you,\n",
      "please provide us feedback at https://github.com/pandas-dev/pandas/issues/54466\n",
      "        \n",
      "  import pandas as pd\n"
     ]
    }
   ],
   "source": [
    "import pandas as pd\n",
    "import numpy as np\n",
    "import datetime\n",
    "dates = pd.date_range('20190214', periods=6)\n",
    "numbers = np.matrix( [[ 101, 103], [105.5, 75], [102, 80.3], [100, 85], [110, 98], [109.6, 125.7 ]] )\n",
    "df = pd.DataFrame(numbers, index=dates, columns=['A','B'])"
   ]
  },
  {
   "cell_type": "code",
   "execution_count": 2,
   "metadata": {},
   "outputs": [
    {
     "data": {
      "text/plain": [
       "A    110.0\n",
       "B     98.0\n",
       "Name: 2019-02-18 00:00:00, dtype: float64"
      ]
     },
     "execution_count": 2,
     "metadata": {},
     "output_type": "execute_result"
    }
   ],
   "source": [
    "# 1. Get entry with index as date '2019-02-18'\n",
    "\n",
    "df.loc['2019-02-18']"
   ]
  },
  {
   "cell_type": "code",
   "execution_count": 3,
   "metadata": {},
   "outputs": [
    {
     "data": {
      "text/plain": [
       "A    110.0\n",
       "B     98.0\n",
       "Name: 2019-02-18 00:00:00, dtype: float64"
      ]
     },
     "execution_count": 3,
     "metadata": {},
     "output_type": "execute_result"
    }
   ],
   "source": [
    "# 2. Get with index date datetime.datetime(2019,2,18)\n",
    "date = datetime.datetime(2019,2,18)\n",
    "df.loc[date]"
   ]
  },
  {
   "cell_type": "code",
   "execution_count": 4,
   "metadata": {},
   "outputs": [
    {
     "data": {
      "text/html": [
       "<div>\n",
       "<style scoped>\n",
       "    .dataframe tbody tr th:only-of-type {\n",
       "        vertical-align: middle;\n",
       "    }\n",
       "\n",
       "    .dataframe tbody tr th {\n",
       "        vertical-align: top;\n",
       "    }\n",
       "\n",
       "    .dataframe thead th {\n",
       "        text-align: right;\n",
       "    }\n",
       "</style>\n",
       "<table border=\"1\" class=\"dataframe\">\n",
       "  <thead>\n",
       "    <tr style=\"text-align: right;\">\n",
       "      <th></th>\n",
       "      <th>A</th>\n",
       "      <th>B</th>\n",
       "    </tr>\n",
       "  </thead>\n",
       "  <tbody>\n",
       "    <tr>\n",
       "      <th>2019-02-18</th>\n",
       "      <td>110.0</td>\n",
       "      <td>98.0</td>\n",
       "    </tr>\n",
       "  </tbody>\n",
       "</table>\n",
       "</div>"
      ],
      "text/plain": [
       "                A     B\n",
       "2019-02-18  110.0  98.0"
      ]
     },
     "execution_count": 4,
     "metadata": {},
     "output_type": "execute_result"
    }
   ],
   "source": [
    "# 3. Get second row from the back without using index\n",
    "\n",
    "df.tail(2).head(1)"
   ]
  },
  {
   "cell_type": "code",
   "execution_count": 5,
   "metadata": {},
   "outputs": [
    {
     "data": {
      "text/plain": [
       "2019-02-14    103.0\n",
       "2019-02-15     75.0\n",
       "Freq: D, Name: B, dtype: float64"
      ]
     },
     "execution_count": 5,
     "metadata": {},
     "output_type": "execute_result"
    }
   ],
   "source": [
    "# 4. Get first two rows ir column B\n",
    "\n",
    "df['B'].head(2)"
   ]
  },
  {
   "cell_type": "code",
   "execution_count": 6,
   "metadata": {},
   "outputs": [
    {
     "data": {
      "text/html": [
       "<div>\n",
       "<style scoped>\n",
       "    .dataframe tbody tr th:only-of-type {\n",
       "        vertical-align: middle;\n",
       "    }\n",
       "\n",
       "    .dataframe tbody tr th {\n",
       "        vertical-align: top;\n",
       "    }\n",
       "\n",
       "    .dataframe thead th {\n",
       "        text-align: right;\n",
       "    }\n",
       "</style>\n",
       "<table border=\"1\" class=\"dataframe\">\n",
       "  <thead>\n",
       "    <tr style=\"text-align: right;\">\n",
       "      <th></th>\n",
       "      <th>A</th>\n",
       "      <th>B</th>\n",
       "    </tr>\n",
       "  </thead>\n",
       "  <tbody>\n",
       "    <tr>\n",
       "      <th>2019-02-19</th>\n",
       "      <td>109.6</td>\n",
       "      <td>125.7</td>\n",
       "    </tr>\n",
       "    <tr>\n",
       "      <th>2019-02-14</th>\n",
       "      <td>101.0</td>\n",
       "      <td>103.0</td>\n",
       "    </tr>\n",
       "    <tr>\n",
       "      <th>2019-02-18</th>\n",
       "      <td>110.0</td>\n",
       "      <td>98.0</td>\n",
       "    </tr>\n",
       "    <tr>\n",
       "      <th>2019-02-17</th>\n",
       "      <td>100.0</td>\n",
       "      <td>85.0</td>\n",
       "    </tr>\n",
       "    <tr>\n",
       "      <th>2019-02-16</th>\n",
       "      <td>102.0</td>\n",
       "      <td>80.3</td>\n",
       "    </tr>\n",
       "    <tr>\n",
       "      <th>2019-02-15</th>\n",
       "      <td>105.5</td>\n",
       "      <td>75.0</td>\n",
       "    </tr>\n",
       "  </tbody>\n",
       "</table>\n",
       "</div>"
      ],
      "text/plain": [
       "                A      B\n",
       "2019-02-19  109.6  125.7\n",
       "2019-02-14  101.0  103.0\n",
       "2019-02-18  110.0   98.0\n",
       "2019-02-17  100.0   85.0\n",
       "2019-02-16  102.0   80.3\n",
       "2019-02-15  105.5   75.0"
      ]
     },
     "execution_count": 6,
     "metadata": {},
     "output_type": "execute_result"
    }
   ],
   "source": [
    "# 5. Sort df by values of column 'B' in a descending order\n",
    "\n",
    "df.sort_values(by='B',ascending=False)"
   ]
  },
  {
   "cell_type": "code",
   "execution_count": 7,
   "metadata": {},
   "outputs": [
    {
     "data": {
      "text/plain": [
       "110.0"
      ]
     },
     "execution_count": 7,
     "metadata": {},
     "output_type": "execute_result"
    }
   ],
   "source": [
    "# 6. Find max value of column 'A'\n",
    "\n",
    "df['A'].max()"
   ]
  },
  {
   "cell_type": "code",
   "execution_count": 8,
   "metadata": {},
   "outputs": [
    {
     "data": {
      "text/html": [
       "<div>\n",
       "<style scoped>\n",
       "    .dataframe tbody tr th:only-of-type {\n",
       "        vertical-align: middle;\n",
       "    }\n",
       "\n",
       "    .dataframe tbody tr th {\n",
       "        vertical-align: top;\n",
       "    }\n",
       "\n",
       "    .dataframe thead th {\n",
       "        text-align: right;\n",
       "    }\n",
       "</style>\n",
       "<table border=\"1\" class=\"dataframe\">\n",
       "  <thead>\n",
       "    <tr style=\"text-align: right;\">\n",
       "      <th></th>\n",
       "      <th>A</th>\n",
       "      <th>B</th>\n",
       "    </tr>\n",
       "  </thead>\n",
       "  <tbody>\n",
       "    <tr>\n",
       "      <th>2019-02-14</th>\n",
       "      <td>101.0</td>\n",
       "      <td>103.0</td>\n",
       "    </tr>\n",
       "    <tr>\n",
       "      <th>2019-02-15</th>\n",
       "      <td>105.5</td>\n",
       "      <td>75.0</td>\n",
       "    </tr>\n",
       "    <tr>\n",
       "      <th>2019-02-16</th>\n",
       "      <td>102.0</td>\n",
       "      <td>80.3</td>\n",
       "    </tr>\n",
       "    <tr>\n",
       "      <th>2019-02-17</th>\n",
       "      <td>100.0</td>\n",
       "      <td>85.0</td>\n",
       "    </tr>\n",
       "    <tr>\n",
       "      <th>2019-02-18</th>\n",
       "      <td>220.0</td>\n",
       "      <td>98.0</td>\n",
       "    </tr>\n",
       "    <tr>\n",
       "      <th>2019-02-19</th>\n",
       "      <td>109.6</td>\n",
       "      <td>125.7</td>\n",
       "    </tr>\n",
       "  </tbody>\n",
       "</table>\n",
       "</div>"
      ],
      "text/plain": [
       "                A      B\n",
       "2019-02-14  101.0  103.0\n",
       "2019-02-15  105.5   75.0\n",
       "2019-02-16  102.0   80.3\n",
       "2019-02-17  100.0   85.0\n",
       "2019-02-18  220.0   98.0\n",
       "2019-02-19  109.6  125.7"
      ]
     },
     "execution_count": 8,
     "metadata": {},
     "output_type": "execute_result"
    }
   ],
   "source": [
    "# 7. Double the value of a cell with the max value\n",
    "# of column 'A' in the same data-frame\n",
    "\n",
    "max = df['A'].max()\n",
    "df['A'] = df['A'].apply(lambda x: 2 * x if x == max else x )\n",
    "df"
   ]
  },
  {
   "cell_type": "code",
   "execution_count": 9,
   "metadata": {},
   "outputs": [
    {
     "data": {
      "text/html": [
       "<div>\n",
       "<style scoped>\n",
       "    .dataframe tbody tr th:only-of-type {\n",
       "        vertical-align: middle;\n",
       "    }\n",
       "\n",
       "    .dataframe tbody tr th {\n",
       "        vertical-align: top;\n",
       "    }\n",
       "\n",
       "    .dataframe thead th {\n",
       "        text-align: right;\n",
       "    }\n",
       "</style>\n",
       "<table border=\"1\" class=\"dataframe\">\n",
       "  <thead>\n",
       "    <tr style=\"text-align: right;\">\n",
       "      <th></th>\n",
       "      <th>A</th>\n",
       "      <th>B</th>\n",
       "    </tr>\n",
       "  </thead>\n",
       "  <tbody>\n",
       "    <tr>\n",
       "      <th>2019-02-15</th>\n",
       "      <td>105.5</td>\n",
       "      <td>75.0</td>\n",
       "    </tr>\n",
       "    <tr>\n",
       "      <th>2019-02-18</th>\n",
       "      <td>220.0</td>\n",
       "      <td>98.0</td>\n",
       "    </tr>\n",
       "    <tr>\n",
       "      <th>2019-02-19</th>\n",
       "      <td>109.6</td>\n",
       "      <td>125.7</td>\n",
       "    </tr>\n",
       "  </tbody>\n",
       "</table>\n",
       "</div>"
      ],
      "text/plain": [
       "                A      B\n",
       "2019-02-15  105.5   75.0\n",
       "2019-02-18  220.0   98.0\n",
       "2019-02-19  109.6  125.7"
      ]
     },
     "execution_count": 9,
     "metadata": {},
     "output_type": "execute_result"
    }
   ],
   "source": [
    "# 8. Get rows where value of column 'A' is larger than 105\n",
    "\n",
    "df[df['A'] > 105]"
   ]
  },
  {
   "cell_type": "code",
   "execution_count": 10,
   "metadata": {},
   "outputs": [
    {
     "data": {
      "image/png": "[encoded data removed]",
      "text/plain": [
       "<Figure size 640x480 with 1 Axes>"
      ]
     },
     "metadata": {},
     "output_type": "display_data"
    }
   ],
   "source": [
    "# 9. Plot values of column 'A'\n",
    "\n",
    "import matplotlib.pyplot as plt\n",
    "plt.plot(df['A'])\n",
    "plt.show()\n"
   ]
  },
  {
   "cell_type": "code",
   "execution_count": 11,
   "metadata": {},
   "outputs": [
    {
     "data": {
      "text/html": [
       "<div>\n",
       "<style scoped>\n",
       "    .dataframe tbody tr th:only-of-type {\n",
       "        vertical-align: middle;\n",
       "    }\n",
       "\n",
       "    .dataframe tbody tr th {\n",
       "        vertical-align: top;\n",
       "    }\n",
       "\n",
       "    .dataframe thead th {\n",
       "        text-align: right;\n",
       "    }\n",
       "</style>\n",
       "<table border=\"1\" class=\"dataframe\">\n",
       "  <thead>\n",
       "    <tr style=\"text-align: right;\">\n",
       "      <th></th>\n",
       "      <th>A</th>\n",
       "      <th>B</th>\n",
       "    </tr>\n",
       "  </thead>\n",
       "  <tbody>\n",
       "    <tr>\n",
       "      <th>2019-02-15</th>\n",
       "      <td>105.5</td>\n",
       "      <td>75.0</td>\n",
       "    </tr>\n",
       "    <tr>\n",
       "      <th>2019-02-16</th>\n",
       "      <td>102.0</td>\n",
       "      <td>80.3</td>\n",
       "    </tr>\n",
       "    <tr>\n",
       "      <th>2019-02-17</th>\n",
       "      <td>100.0</td>\n",
       "      <td>85.0</td>\n",
       "    </tr>\n",
       "    <tr>\n",
       "      <th>2019-02-18</th>\n",
       "      <td>220.0</td>\n",
       "      <td>98.0</td>\n",
       "    </tr>\n",
       "  </tbody>\n",
       "</table>\n",
       "</div>"
      ],
      "text/plain": [
       "                A     B\n",
       "2019-02-15  105.5  75.0\n",
       "2019-02-16  102.0  80.3\n",
       "2019-02-17  100.0  85.0\n",
       "2019-02-18  220.0  98.0"
      ]
     },
     "execution_count": 11,
     "metadata": {},
     "output_type": "execute_result"
    }
   ],
   "source": [
    "# 10. Delete rows where value of column 'B' is larger than\n",
    "# value of column 'A'\n",
    "\n",
    "df[df['B'] <= df['A']]"
   ]
  },
  {
   "cell_type": "code",
   "execution_count": 12,
   "metadata": {},
   "outputs": [
    {
     "data": {
      "text/plain": [
       "104"
      ]
     },
     "execution_count": 12,
     "metadata": {},
     "output_type": "execute_result"
    }
   ],
   "source": [
    "import numpy as np\n",
    "\n",
    "# 11. Add two vectors\n",
    "a = np.random.randint(low=1, high=10, size=10)\n",
    "b = np.random.randint(low=1, high=10, size=10)\n",
    "c = 0\n",
    "\n",
    "for i in range(len(a)):\n",
    "    c += a[i] + b[i]\n",
    "\n",
    "c\n"
   ]
  },
  {
   "cell_type": "code",
   "execution_count": 13,
   "metadata": {},
   "outputs": [
    {
     "data": {
      "text/plain": [
       "array([ 0, -6,  0,  0,  0, -7, -3, -6,  0,  0])"
      ]
     },
     "execution_count": 13,
     "metadata": {},
     "output_type": "execute_result"
    }
   ],
   "source": [
    "# 12. Set positive elements to 0\n",
    "\n",
    "a = np.random.randint(low=-10, high=10, size=10)\n",
    "\n",
    "for i in range(len(a)):\n",
    "    if a[i] > 0:\n",
    "        a[i] = 0\n",
    "\n",
    "a"
   ]
  },
  {
   "cell_type": "code",
   "execution_count": 14,
   "metadata": {},
   "outputs": [
    {
     "data": {
      "text/plain": [
       "array([6., 6., 6., 2., 4., 2., 5., 4.])"
      ]
     },
     "execution_count": 14,
     "metadata": {},
     "output_type": "execute_result"
    }
   ],
   "source": [
    "# 13. Remove elements larger than 6\n",
    "\n",
    "a = np.random.randint(low=1, high=10, size=10)\n",
    "b = []\n",
    "\n",
    "for i in range(len(a)): \n",
    "    if a[i] <= 6:\n",
    "        b = np.append(b, a[i])\n",
    "\n",
    "b"
   ]
  },
  {
   "cell_type": "code",
   "execution_count": 15,
   "metadata": {},
   "outputs": [
    {
     "name": "stdout",
     "output_type": "stream",
     "text": [
      "[9 3 8 4 9 5 7 9 8 9]\n",
      "9\n"
     ]
    }
   ],
   "source": [
    "# 14. Print equal neighbors\n",
    "a = np.random.randint(low=1, high=10, size=10)\n",
    "print(a)\n",
    "for i in range(len(a)):\n",
    "    if(a[i] == a[i-1]):\n",
    "        print(a[i])"
   ]
  },
  {
   "cell_type": "code",
   "execution_count": 16,
   "metadata": {},
   "outputs": [
    {
     "name": "stdout",
     "output_type": "stream",
     "text": [
      "5\n",
      "8\n",
      "7\n",
      "8\n"
     ]
    }
   ],
   "source": [
    "# 15. Print element from a if it's bigger\n",
    "# element from b with the same index\n",
    "\n",
    "a = np.random.randint(low=1, high=10, size=10)\n",
    "b = np.random.randint(low=1, high=10, size=10)\n",
    "for i in range(len(a)):\n",
    "    if a[i] > b[i]:\n",
    "        print(a[i])"
   ]
  },
  {
   "cell_type": "code",
   "execution_count": 17,
   "metadata": {},
   "outputs": [
    {
     "name": "stdout",
     "output_type": "stream",
     "text": [
      "[2 9 9 4 7 8 1 5 3 1]\n",
      "[9 9 4 7 8 1 5 3 2 2]\n"
     ]
    }
   ],
   "source": [
    "# 16. Shift elements and repeat last\n",
    "\n",
    "a = np.random.randint(low=1, high=10, size=10)\n",
    "print(a)\n",
    "for i in range(len(a)):\n",
    "    a[i-1]=a[i]\n",
    "    \n",
    "print(a)"
   ]
  },
  {
   "cell_type": "code",
   "execution_count": 18,
   "metadata": {},
   "outputs": [
    {
     "name": "stdout",
     "output_type": "stream",
     "text": [
      "[5 6 2 6 9 6 9 9 4 5]\n",
      "[5 4 9 9 6 9 6 2 6 5]\n"
     ]
    }
   ],
   "source": [
    "# 17. Reverse\n",
    "a = np.random.randint(low=1, high=10, size=10)\n",
    "\n",
    "print(a)\n",
    "\n",
    "for i in range(len(a)//2):\n",
    "    b = a[i]\n",
    "    a[i] = a[len(a) - i - 1]\n",
    "    a[len(a) - i - 1] = b\n",
    "    \n",
    "print(a)\n"
   ]
  },
  {
   "cell_type": "code",
   "execution_count": 19,
   "metadata": {},
   "outputs": [
    {
     "name": "stdout",
     "output_type": "stream",
     "text": [
      "[7 4 5 3 9 2 2 4 7 4]\n",
      "[0 4 0 3 0 2 0 4 0 4]\n"
     ]
    }
   ],
   "source": [
    "# 18. Set every other element to zero\n",
    "\n",
    "a = np.random.randint(low=1, high=10, size=10)\n",
    "\n",
    "print(a)\n",
    "\n",
    "for i in range(0, len(a), 2):\n",
    "    a[i] = 0\n",
    "    \n",
    "print(a)"
   ]
  },
  {
   "cell_type": "code",
   "execution_count": 20,
   "metadata": {},
   "outputs": [
    {
     "name": "stdout",
     "output_type": "stream",
     "text": [
      "[[-1.50757707e-01 -2.29077741e-01 -8.71194638e-02  1.10296959e+00\n",
      "  -7.11920988e-01  7.89134341e-01 -2.02591413e+00 -5.86231781e-01\n",
      "   1.49156419e+00 -1.30344289e-01 -1.04256477e+00 -1.65950625e-01\n",
      "   1.73683412e+00  1.00724428e+00 -4.25421485e-01  9.08145261e-02\n",
      "  -1.84080822e+00  3.28027672e-02  5.88876614e-01 -9.04927128e-01]\n",
      " [-4.53475246e-01  1.23924997e+00  4.77501884e-01  1.98194380e-01\n",
      "  -7.32513486e-01 -1.66867484e+00 -5.51115214e-01  1.25569968e+00\n",
      "   5.01554878e-01  8.61788141e-02  1.48770949e+00  1.10517880e+00\n",
      "   5.22836769e-01  1.00411865e+00 -4.62937716e-01 -5.73493985e-02\n",
      "   7.18000053e-01  1.01147114e+00 -4.04026836e-01  1.37959578e+00]\n",
      " [-1.06812659e+00  1.47029779e+00  6.21838090e-01 -2.71165922e+00\n",
      "   1.73509036e+00  1.24776008e+00  4.96704904e-01  6.33017647e-01\n",
      "  -4.22861510e-01 -5.79011908e-01  3.95583233e-01  4.79069008e-01\n",
      "  -1.98372966e-01 -7.79512685e-01  1.41890113e+00  2.36576764e-01\n",
      "   9.38422340e-01 -6.56703974e-01  2.16958805e-02 -5.01203345e-01]\n",
      " [ 2.20769676e-01  1.14791488e+00  7.43850266e-01 -4.09834001e-01\n",
      "   3.79790178e-01  5.49885395e-01 -2.58811453e-01  5.99122918e-01\n",
      "   9.65059243e-01  1.23630033e+00 -5.72942362e-01  9.17639594e-01\n",
      "   7.79919684e-01 -5.86920696e-01  3.66932678e+00 -1.24753530e+00\n",
      "  -1.84189634e-01 -2.99445218e-01  3.41878949e-01 -2.60559981e+00]\n",
      " [ 7.08813046e-01 -7.93922024e-01 -1.44502032e+00  1.18352110e+00\n",
      "   2.25480594e+00 -9.00941809e-01 -1.40353145e+00  8.50997741e-01\n",
      "  -9.03890636e-01 -4.42957616e-01  6.29515134e-01  9.65085080e-02\n",
      "  -1.44310771e-01  1.37342694e+00  1.30430059e+00  7.07803893e-02\n",
      "  -1.84501189e-01  1.32093580e+00 -2.85768497e+00  3.62176043e-01]\n",
      " [ 7.06778447e-01  6.53239713e-01 -5.28084335e-02 -1.77369491e-02\n",
      "  -1.33692487e+00 -5.89323102e-02  7.44538841e-01  1.67210829e+00\n",
      "   7.14905771e-01  5.89838383e-01 -3.68941107e-01 -3.31199750e-01\n",
      "   8.16816119e-01 -4.68513338e-01  4.91490497e-01 -1.61344150e+00\n",
      "   1.61808641e+00 -5.26111011e-01  5.94162678e-01  3.66504038e-01]\n",
      " [ 2.65618527e-01  1.07707923e+00 -5.92069590e-01  4.79971830e-01\n",
      "  -4.58533777e-01  1.76781276e-01 -2.92898050e-01  4.60135573e-01\n",
      "  -1.95707439e-01 -2.49370606e-01  5.38843683e-01  9.21784899e-01\n",
      "   7.12592305e-01 -7.55218201e-01  1.17496729e-02  3.42328883e-01\n",
      "   1.31677957e+00 -6.01854335e-01 -2.56743209e-01 -9.75796636e-01]\n",
      " [ 4.70697486e-01 -1.74988438e+00  1.72556505e-01 -7.63826607e-01\n",
      "  -3.23008664e-01  1.56952783e+00 -1.18779786e+00 -4.31348494e-01\n",
      "  -1.18853988e-01  2.55390313e-01 -4.92539895e-01 -2.93622828e-01\n",
      "   4.78642727e-01 -1.26370489e+00  9.54464985e-01 -1.99582472e-01\n",
      "  -3.61388999e-01  8.21159709e-01 -5.07398332e-01  1.71837367e+00]\n",
      " [ 6.28755690e-01  2.08276142e-01 -4.01912252e-01 -2.83432586e-01\n",
      "   7.66699786e-01 -3.02501515e-01 -2.52413891e+00  4.58917256e-01\n",
      "  -1.56123375e-01 -4.13819706e-01  7.16562957e-02  1.48141070e+00\n",
      "   6.21617620e-01  8.48255133e-01 -1.31299015e+00 -2.27052569e-01\n",
      "  -3.35138002e-01 -1.14567300e+00 -1.26746637e+00 -1.42803999e+00]\n",
      " [-8.89597468e-01 -3.76731363e-01  1.39482745e+00  4.97042176e-03\n",
      "  -2.83816423e-01 -8.70650361e-02 -1.28043120e+00  1.33140306e+00\n",
      "   3.73762064e-01 -4.55026536e-01  8.50357977e-01  2.13804113e+00\n",
      "  -1.92396392e+00 -3.58269615e-01  4.84904988e-01 -4.38313048e-01\n",
      "  -2.90949652e-03  5.26369820e-01 -1.00144934e+00 -1.03002379e-01]]\n",
      "-0.07303989546290304\n",
      "0.33285987789427895\n",
      "0.13887525095290126\n",
      "0.2693089709224127\n",
      "0.053951021934108646\n",
      "0.20969299564999058\n",
      "0.09627368049053818\n",
      "-0.06260720902149378\n",
      "-0.23563499001961352\n",
      "-0.004796946002454153\n"
     ]
    }
   ],
   "source": [
    "# 19. Matrix row averages\n",
    "\n",
    "a = np.random.randn(10, 20)\n",
    "print(a)\n",
    "for i in range(a.shape[0]):\n",
    "    print(np.mean(a[i,:]))\n"
   ]
  },
  {
   "cell_type": "code",
   "execution_count": 21,
   "metadata": {},
   "outputs": [
    {
     "name": "stdout",
     "output_type": "stream",
     "text": [
      "[[-1.01432863 -0.73126369 -1.3892002   0.78327678 -1.02825947  1.04564365\n",
      "   0.68616001  0.90680823 -0.26584854  0.17761531]\n",
      " [ 0.31285353 -1.93997394  0.02924331  0.00520753 -0.16203173 -0.68571996\n",
      "   0.39299518 -1.15495752  0.06059596 -1.75493651]\n",
      " [ 0.15059943 -0.54532952  0.16171321  0.32876218 -0.73029866  0.83778437\n",
      "  -0.1628187   0.58449373 -0.63198676  0.75230675]\n",
      " [-0.23221968  0.17300999  0.13963817 -0.26240963  0.51294311  0.61414321\n",
      "   0.27223952 -0.08154427 -1.27305752 -1.20198358]\n",
      " [ 0.9248806  -0.10026427  1.0129482  -1.47066892 -2.33865194 -1.38727003\n",
      "  -0.4270915  -0.01847555 -1.99950923  0.48835574]\n",
      " [ 0.28490127 -0.13087094  0.80583676 -0.19737263  0.01411973  0.77714254\n",
      "   1.81669635 -1.0249372  -0.4235408   0.39259064]\n",
      " [-0.48380118 -0.91906607  0.38634661 -0.33726589 -1.79380635  0.20470276\n",
      "  -1.84491143 -0.58568978 -0.77782367  1.60350575]\n",
      " [ 0.07792566  0.45055024  0.86363988 -0.21745246 -0.72350166 -0.84625131\n",
      "   1.13967407 -0.37021125  1.26852783  0.18199661]\n",
      " [-1.15510739  1.06233069  0.61783387  1.93491346 -1.18574824  0.4091795\n",
      "   1.07611929  0.47005578 -0.53577957 -0.01690488]\n",
      " [-0.64336818 -1.52090018  0.2309709   1.60902909  0.82434503 -1.42442306\n",
      "  -1.40483854 -0.09653909 -0.47162673 -1.88786186]]\n",
      "-1.0143286337691817\n",
      "-1.9399739404482386\n",
      "0.16171321043603168\n",
      "-0.26240962526625783\n",
      "-2.338651944293892\n",
      "0.7771425380582346\n",
      "-1.8449114260271031\n",
      "-0.3702112497124452\n",
      "-0.5357795734106692\n",
      "-1.8878618647334378\n"
     ]
    }
   ],
   "source": [
    "# 20. Print diagonal\n",
    "\n",
    "a = np.random.randn(10, 10)\n",
    "print(a)\n",
    "for i in range(a.shape[0]):\n",
    "    print(np.mean(a[i,i]))"
   ]
  }
 ],
 "metadata": {
  "kernelspec": {
   "display_name": "Python 3",
   "language": "python",
   "name": "python3"
  },
  "language_info": {
   "codemirror_mode": {
    "name": "ipython",
    "version": 3
   },
   "file_extension": ".py",
   "mimetype": "text/x-python",
   "name": "python",
   "nbconvert_exporter": "python",
   "pygments_lexer": "ipython3",
   "version": "3.10.11"
  }
 },
 "nbformat": 4,
 "nbformat_minor": 2
}
