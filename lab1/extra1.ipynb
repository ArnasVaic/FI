{
 "cells": [
  {
   "cell_type": "code",
   "execution_count": 1,
   "metadata": {},
   "outputs": [],
   "source": [
    "# Imports\n",
    "\n",
    "# Plotly imports\n",
    "import plotly.graph_objects as go\n",
    "import plotly.express as px\n",
    "import numpy as np\n",
    "import pandas as pd\n",
    "\n",
    "# Importing the api and instantiating the rest client according to our keys\n",
    "import alpaca_trade_api as api\n",
    "\n",
    "# Yaml\n",
    "import yaml"
   ]
  },
  {
   "cell_type": "code",
   "execution_count": 2,
   "metadata": {},
   "outputs": [],
   "source": [
    "# Read config\n",
    "with open('config.yaml', 'r') as file:\n",
    "    config = yaml.safe_load(file)"
   ]
  },
  {
   "cell_type": "code",
   "execution_count": 3,
   "metadata": {},
   "outputs": [],
   "source": [
    "# Create Alpaca client\n",
    "alpaca = api.REST(config['api-key'], config['api-secret'])"
   ]
  },
  {
   "cell_type": "code",
   "execution_count": 4,
   "metadata": {},
   "outputs": [],
   "source": [
    "df = alpaca.get_trades('AAPL', start='2023-06-01', limit=10000).df"
   ]
  },
  {
   "cell_type": "code",
   "execution_count": 10,
   "metadata": {},
   "outputs": [],
   "source": [
    "# timestamps without last\n",
    "timestamps = df.index.values[:-1]\n",
    "\n",
    "# differences of timestamps without first element\n",
    "differences = df.index.diff().values[1:]"
   ]
  },
  {
   "cell_type": "code",
   "execution_count": 6,
   "metadata": {},
   "outputs": [
    {
     "name": "stdout",
     "output_type": "stream",
     "text": [
      "1th largest break happened on 2023-06-01T10:08:33.721908309 and lasted 0 days 00:02:51.296892245\n",
      "2th largest break happened on 2023-06-01T10:48:22.608626489 and lasted 0 days 00:01:44.352738665\n",
      "3th largest break happened on 2023-06-01T10:50:31.511075349 and lasted 0 days 00:01:17.512609327\n",
      "4th largest break happened on 2023-06-01T08:31:27.449541434 and lasted 0 days 00:01:17.403361254\n",
      "5th largest break happened on 2023-06-01T10:18:44.575479610 and lasted 0 days 00:01:07.463945597\n",
      "6th largest break happened on 2023-06-01T08:43:48.295814018 and lasted 0 days 00:01:06.368608460\n",
      "7th largest break happened on 2023-06-01T09:19:54.164540869 and lasted 0 days 00:01:02.005508643\n",
      "8th largest break happened on 2023-06-01T09:43:30.120361381 and lasted 0 days 00:00:58.458488423\n",
      "9th largest break happened on 2023-06-01T08:42:38.512394982 and lasted 0 days 00:00:57.618887253\n",
      "10th largest break happened on 2023-06-01T10:38:20.192582250 and lasted 0 days 00:00:57.085454810\n"
     ]
    }
   ],
   "source": [
    "# zip, and sort\n",
    "dtype = [('timestamp', 'datetime64[ns]'), ('difference', 'timedelta64[ns]' )]\n",
    "zipped = np.array(list(zip(timestamps, differences)), dtype=dtype)\n",
    "sorted = np.sort(zipped, order='difference')[::-1]\n",
    "\n",
    "# Print 10 largest breaks or as many as there were\n",
    "for i in range(min(len(sorted), 10)):\n",
    "    pd_timedelta = pd.to_timedelta(sorted[i][1])\n",
    "    t = pd_timedelta\n",
    "    print(f'{1 + i}th largest break happened on {sorted[i][0]} and lasted {t}')"
   ]
  }
 ],
 "metadata": {
  "kernelspec": {
   "display_name": "Python 3",
   "language": "python",
   "name": "python3"
  },
  "language_info": {
   "codemirror_mode": {
    "name": "ipython",
    "version": 3
   },
   "file_extension": ".py",
   "mimetype": "text/x-python",
   "name": "python",
   "nbconvert_exporter": "python",
   "pygments_lexer": "ipython3",
   "version": "3.10.11"
  }
 },
 "nbformat": 4,
 "nbformat_minor": 2
}
