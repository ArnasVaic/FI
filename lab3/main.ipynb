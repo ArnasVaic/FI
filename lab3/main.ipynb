{
 "cells": [
  {
   "cell_type": "code",
   "execution_count": 418,
   "metadata": {},
   "outputs": [],
   "source": [
    "import pandas_ta as ta\n",
    "import pandas as pd\n",
    "import yfinance as yf\n",
    "import mplfinance as mpf\n",
    "import numpy as np"
   ]
  },
  {
   "cell_type": "code",
   "execution_count": 419,
   "metadata": {},
   "outputs": [
    {
     "name": "stderr",
     "output_type": "stream",
     "text": [
      "c:\\Users\\Arnas\\AppData\\Local\\Programs\\Python\\Python311\\Lib\\site-packages\\yfinance\\utils.py:775: FutureWarning: The 'unit' keyword in TimedeltaIndex construction is deprecated and will be removed in a future version. Use pd.to_timedelta instead.\n",
      "  df.index += _pd.TimedeltaIndex(dst_error_hours, 'h')\n"
     ]
    }
   ],
   "source": [
    "df = pd.DataFrame().ta.ticker(\"TSLA\")"
   ]
  },
  {
   "cell_type": "code",
   "execution_count": 420,
   "metadata": {},
   "outputs": [],
   "source": [
    "df.to_csv('data.csv')"
   ]
  },
  {
   "cell_type": "code",
   "execution_count": 421,
   "metadata": {},
   "outputs": [],
   "source": [
    "df = pd.read_csv('data.csv')\n",
    "df.index = pd.DatetimeIndex(df['Date'], tz='utc')"
   ]
  },
  {
   "cell_type": "code",
   "execution_count": 422,
   "metadata": {},
   "outputs": [],
   "source": [
    "def sell(date, asset_quantity, current_price, fee, df):\n",
    "    balance_no_fee = asset_quantity * current_price\n",
    "    print(f'Sell {asset_quantity} stock at {current_price} per stock (asset_price: {(1 - fee) * balance_no_fee}, fee: {fee * balance_no_fee})')\n",
    "    df.loc[date, 'dbalance'] = balance_no_fee\n",
    "    df.loc[date, 'dasset_quantity'] = -asset_quantity\n",
    "    df.loc[date, 'dfee'] = fee * balance_no_fee\n",
    "    return ((1 - fee) * balance_no_fee, 0, df)\n",
    "    \n",
    "\n",
    "def buy(date, balance, current_price, fee, df):\n",
    "    qnt = (1 - fee) * balance / current_price\n",
    "    fee_price = fee * balance\n",
    "    print(f'Buy {qnt} stock at {current_price} per stock (asset price: {balance}, fee: {fee_price})')\n",
    "    df.loc[date, 'dbalance'] = -balance\n",
    "    df.loc[date, 'dfee'] = fee_price\n",
    "    df.loc[date, 'dasset_quantity'] = qnt\n",
    "    return (0, qnt, df)\n",
    "    "
   ]
  },
  {
   "cell_type": "code",
   "execution_count": 423,
   "metadata": {},
   "outputs": [],
   "source": [
    "def initialize_marker_columns(df):\n",
    "    # zero everywhere, except where buy action happened\n",
    "    df['buy_action'] = None\n",
    "    df.loc[df['dsignal'] > 0, 'buy_action'] = df['Close']\n",
    "\n",
    "    # zero everywhere, except where sell action happened\n",
    "    df['sell_action'] = None\n",
    "    df.loc[df['dsignal'] < 0, 'sell_action'] = df['Close']\n",
    "\n",
    "    # visually remove preceeding sells \n",
    "    first_buy_date = df.loc[df['buy_action'].notnull(), 'buy_action'].index[0]\n",
    "    df.loc[ df.index < first_buy_date, 'sell_action'] = None\n",
    "\n",
    "    return df\n",
    "\n",
    "def initialize_smas(df, short, long):\n",
    "    df['sma-short'] = df['Close'].rolling(window=short).mean()\n",
    "    df['sma-long'] = df['Close'].rolling(window=long).mean()\n",
    "\n",
    "    df['signal'] = 0\n",
    "    df.loc[df['sma-short'] > df['sma-long'], 'signal'] = 1\n",
    "    df.loc[df['sma-short'] < df['sma-long'], 'signal'] = -1\n",
    "\n",
    "    df['dsignal'] = df['signal'].diff().fillna(0)\n",
    "\n",
    "    # actually remove preceeding sells ant trailing buys\n",
    "    #first_buy_date = df.loc[df['dsignal'] <, 'buy_action'].index[0]\n",
    "    #df.loc[ df.index < first_buy_date, 'sell_action'] = None\n",
    "    #df['dsignal']\n",
    "\n",
    "    first_buy_signal_id = df.loc[df['dsignal'] > 0, 'dsignal'].index[0]\n",
    "    df.loc[ df.index < first_buy_signal_id, 'dsignal'] = 0\n",
    "\n",
    "    return df\n",
    "\n",
    "def run_trend_following_strategy(df, fee, short, long, stop_loss, take_profit, initial_investment, start_date, stop_date):\n",
    "\n",
    "    last_buy_price = None\n",
    "\n",
    "    df = initialize_smas(df, short, long)\n",
    "\n",
    "    # filter trading time frame to specified window\n",
    "    # trading sim will happen from start_date to end_date\n",
    "    df = df[df.index >= start_date]\n",
    "    df = df[df.index <= stop_date]\n",
    "\n",
    "    # if the last non zero dsignal was not < 0 (sell signal), add it artificially\n",
    "    if df[df['dsignal'] != 0]['dsignal'].iloc[-1] > 0:\n",
    "        last_id = df.index[-1]\n",
    "        df.loc[last_id, 'dsignal'] = -2 # 2 because when we'll intergrate dsignal we'll get ok signal values\n",
    "\n",
    "    # not necessary, but helpful for visualization\n",
    "    df = initialize_marker_columns(df)\n",
    "\n",
    "    df['dbalance'] = 0.0\n",
    "    df['dfee'] = 0.0\n",
    "    df['dasset_quantity'] = 0.0\n",
    "    \n",
    "\n",
    "    balance = initial_investment\n",
    "    asset_quantity = 0\n",
    "\n",
    "    for date, signal in zip(df.index, df['dsignal']):\n",
    "\n",
    "        current_price = df['Close'][date]\n",
    "\n",
    "        # calculate profit at time t\n",
    "        #if(current_price <= stop_loss or current_price >= take_profit):\n",
    "\n",
    "        if last_buy_price is not None:\n",
    "            execute_stop_loss = (1 - stop_loss) * last_buy_price >= current_price\n",
    "            execute_take_profit = (1 + take_profit) * last_buy_price <= current_price\n",
    "\n",
    "            if (execute_stop_loss or execute_take_profit):\n",
    "                # sell & stop trading\n",
    "                print(f'date: {date}')\n",
    "                print(f'[qnt: {asset_quantity}, bal: {balance}]')\n",
    "                print('[stop loss]') if execute_stop_loss else print('[take profit]')\n",
    "                balance, asset_quantity, df = sell(date, asset_quantity, current_price, fee, df)\n",
    "\n",
    "                # register a sell signal and remove further ones generates by sma comparison\n",
    "\n",
    "                df.loc[date, 'sell_action'] = df.loc[date, 'Close']\n",
    "                df.loc[df['sell_action'].index > date, 'sell_action'] = None\n",
    "\n",
    "                break\n",
    "\n",
    "        if(signal == 0):\n",
    "            continue\n",
    "\n",
    "        print(f'date: {date}')\n",
    "        print(f'[qnt: {asset_quantity}, bal: {balance}]')\n",
    "\n",
    "        if(signal > 0): # buy\n",
    "            last_buy_price = current_price\n",
    "            balance, asset_quantity, df = buy(date, balance, current_price, fee, df)\n",
    "        \n",
    "        else: # sell\n",
    "            balance, asset_quantity, df = sell(date, asset_quantity, current_price, fee, df)\n",
    "\n",
    "\n",
    "    # after simulation sell everything for last known price\n",
    "    print(f'[qnt: {asset_quantity}, bal: {balance}]')\n",
    "    print(f'profit: {balance - initial_investment}')\n",
    "\n",
    "    #df['dasset_quantity'] = df['dasset_quantity'].apply(lambda x: max(0, x)) + df['dasset_quantity'].apply(lambda x: min(0, x)).shift(1).fillna(0)\n",
    "    df['qnt'] = df['dasset_quantity'].cumsum()\n",
    "    df['dclose'] = df['Close'].diff().fillna(0)\n",
    "    df['dprofit'] = df['dclose'] * df['qnt'].shift(1).fillna(0) - df['dfee']\n",
    "    df['profit'] = df['dprofit'].cumsum()\n",
    "   \n",
    "    #df['exdprofit'] = 0.0\n",
    "    #df['exdprofit'] = (df['Close'].shift(1) - df['Close']) * df['qnt']\n",
    "    #df['exprofit'] = df['exdprofit'].cumsum()\n",
    "\n",
    "    return df"
   ]
  },
  {
   "cell_type": "code",
   "execution_count": 424,
   "metadata": {},
   "outputs": [],
   "source": [
    "def sharpe_ratio(profit, risk_free_rate = 0):\n",
    "    return (np.mean(profit  - risk_free_rate)) / np.std(profit)"
   ]
  },
  {
   "cell_type": "code",
   "execution_count": 425,
   "metadata": {},
   "outputs": [],
   "source": [
    "fee = 0.02\n",
    "initial_investment = 1000\n",
    "start_date, end_date = '2024-01-01', '2024-05-01'\n",
    "\n",
    "# stop_loss_range = np.arange(0.1, 0.9, 0.1)\n",
    "# take_profit_range = np.arange(0.1, 0.9, 0.1)\n",
    "# short_window_range = np.arange(10, 20, 2)\n",
    "# long_window_range = np.arange(20, 50, 10)\n",
    "\n",
    "# max_sharpe_ratio = 0\n",
    "# best_params = (stop_loss_range[0], take_profit_range[0], short_window_range[0], long_window_range[0]) \n",
    "\n",
    "# for stop_loss in stop_loss_range:\n",
    "#     for take_profit in take_profit_range:\n",
    "#         for short_window in short_window_range:\n",
    "#             for long_window in long_window_range:\n",
    "\n",
    "#                 # clear data\n",
    "#                 df = pd.read_csv('data.csv')\n",
    "#                 df.index = pd.DatetimeIndex(df['Date'], tz='utc')\n",
    "\n",
    "#                 print(f'params: {stop_loss}, {take_profit}, {short_window}, {long_window}')\n",
    "#                 df = run_trend_following_strategy(df, fee, short_window, long_window, stop_loss, take_profit, initial_investment, start_date, end_date)\n",
    "#                 sr = sharpe_ratio(df['profit'])\n",
    "#                 if sr > max_sharpe_ratio:\n",
    "#                     max_sharpe_ratio = sr\n",
    "#                     best_params = (stop_loss, take_profit, short_window, long_window)\n",
    "\n",
    "# df = pd.read_csv('data.csv')\n",
    "# df.index = pd.DatetimeIndex(df['Date'], tz='utc')\n",
    "# print(\"Optimized strategy\")\n",
    "# df = run_trend_following_strategy(df, fee, best_params[2], best_params[3], best_params[0], best_params[1], initial_investment, start_date, end_date)\n",
    "\n",
    "# print(f'Best sharpe ratio: {max_sharpe_ratio}')\n",
    "# print(f'Best params:')\n",
    "# print(f'Stop loss: {best_params[0]}')\n",
    "# print(f'Take profit: {best_params[1]}')\n",
    "# print(f'Short window: {best_params[2]}')\n",
    "# print(f'Long window: {best_params[3]}')"
   ]
  },
  {
   "cell_type": "code",
   "execution_count": 426,
   "metadata": {},
   "outputs": [
    {
     "name": "stdout",
     "output_type": "stream",
     "text": [
      "date: 2024-01-08 05:00:00+00:00\n",
      "[qnt: 0, bal: 1000]\n",
      "Sell 0 stock at 240.4499969482422 per stock (asset_price: 0.0, fee: 0.0)\n",
      "date: 2024-02-20 05:00:00+00:00\n",
      "[qnt: 0, bal: 0.0]\n",
      "Buy 0.0 stock at 193.75999450683597 per stock (asset price: 0.0, fee: 0.0)\n",
      "date: 2024-03-07 05:00:00+00:00\n",
      "[qnt: 0.0, bal: 0]\n",
      "Sell 0.0 stock at 178.64999389648438 per stock (asset_price: 0.0, fee: 0.0)\n",
      "date: 2024-03-13 04:00:00+00:00\n",
      "[qnt: 0, bal: 0.0]\n",
      "[stop loss]\n",
      "Sell 0 stock at 169.47999572753906 per stock (asset_price: 0.0, fee: 0.0)\n",
      "[qnt: 0, bal: 0.0]\n",
      "profit: -1000.0\n"
     ]
    }
   ],
   "source": [
    "df = run_trend_following_strategy(df, fee, 10, 20, 0.1, 0.5, initial_investment, start_date, end_date)"
   ]
  },
  {
   "cell_type": "code",
   "execution_count": 427,
   "metadata": {},
   "outputs": [
    {
     "data": {
      "text/plain": [
       "0.0"
      ]
     },
     "execution_count": 427,
     "metadata": {},
     "output_type": "execute_result"
    }
   ],
   "source": [
    "1000 - 20 - 7.345225704163618 * 133.4199981689453"
   ]
  },
  {
   "cell_type": "code",
   "execution_count": 428,
   "metadata": {},
   "outputs": [
    {
     "data": {
      "image/png": "[encoded data removed]",
      "text/plain": [
       "<Figure size 800x575 with 4 Axes>"
      ]
     },
     "metadata": {},
     "output_type": "display_data"
    }
   ],
   "source": [
    "marker_offset = 5\n",
    "\n",
    "apds = [\n",
    "    mpf.make_addplot(df['buy_action'] + marker_offset, type='scatter', panel=0, secondary_y=False, markersize=100, marker='^', color = 'green', width=1),\n",
    "    mpf.make_addplot(df['sell_action'] + marker_offset, type='scatter', panel=0, secondary_y=False, markersize=100, marker='v', color = 'red', width=1),\n",
    "    mpf.make_addplot(df['sma-short'], panel=0, color='r', secondary_y=False, ylabel='long', width=1),\n",
    "    mpf.make_addplot(df['sma-long'], panel=0, color='g', secondary_y=False, ylabel='short', width=1),\n",
    "    mpf.make_addplot(df['profit'], panel=1, color='b', secondary_y=False, width=1),\n",
    "    #mpf.make_addplot(df['exprofit'], panel=2, color='b', secondary_y=False, width=1),\n",
    "]\n",
    "\n",
    "mpf.plot(df, type='candle', addplot=apds, volume=False, ylabel='Trend following strategy')"
   ]
  },
  {
   "cell_type": "code",
   "execution_count": 429,
   "metadata": {},
   "outputs": [
    {
     "data": {
      "text/plain": [
       "197.21935499999995"
      ]
     },
     "execution_count": 429,
     "metadata": {},
     "output_type": "execute_result"
    }
   ],
   "source": [
    "1177.219355 - 980.000000\n",
    "\n",
    "#(160.270004 - 133.419998) * 7.345226 # no fees\n",
    "#(160.270004 - 133.419998) * 7.345226 - 20 - 160.270004 * 7.345226 * 0.02 # with fees"
   ]
  },
  {
   "cell_type": "code",
   "execution_count": 430,
   "metadata": {},
   "outputs": [
    {
     "data": {
      "text/plain": [
       "197.219355"
      ]
     },
     "execution_count": 430,
     "metadata": {},
     "output_type": "execute_result"
    }
   ],
   "source": [
    "#45.907661\n",
    "75.876195 +1.028327 + 3.966373 + 116.348460"
   ]
  },
  {
   "cell_type": "code",
   "execution_count": 431,
   "metadata": {},
   "outputs": [
    {
     "data": {
      "text/plain": [
       "Date\n",
       "2024-01-02 05:00:00+00:00    0.0\n",
       "2024-01-03 05:00:00+00:00    0.0\n",
       "2024-01-04 05:00:00+00:00    0.0\n",
       "2024-01-05 05:00:00+00:00    0.0\n",
       "2024-01-08 05:00:00+00:00    0.0\n",
       "                            ... \n",
       "2024-04-01 04:00:00+00:00    0.0\n",
       "2024-04-02 04:00:00+00:00    0.0\n",
       "2024-04-03 04:00:00+00:00    0.0\n",
       "2024-04-04 04:00:00+00:00    0.0\n",
       "2024-04-05 04:00:00+00:00    0.0\n",
       "Length: 66, dtype: float64"
      ]
     },
     "execution_count": 431,
     "metadata": {},
     "output_type": "execute_result"
    }
   ],
   "source": [
    "#df['qnt']\n",
    "\n",
    "dq = df['qnt'].diff().fillna(0)\n",
    "dq1 = dq.apply(lambda x: max(0, x)) + dq.apply(lambda x: min(0, x)).shift(1).fillna(0)\n",
    "\n",
    "#(df['dclose'] * df['qnt']).cumsum()\n",
    "\n",
    "# 2023-01-19 05:00:00+00:00       0.000000\n",
    "# 2023-01-20 05:00:00+00:00     980.000000\n",
    "# 2023-01-23 05:00:00+00:00    1055.876195\n",
    "# 2023-01-24 05:00:00+00:00    1056.904522\n",
    "# 2023-01-25 05:00:00+00:00    1060.870895\n",
    "# 2023-01-26 05:00:00+00:00    1177.219355\n",
    "# 2023-01-27 05:00:00+00:00       0.000000\n",
    "\n",
    "(df['dclose'] * df['qnt'].shift(1).fillna(0) - df['dfee']).cumsum()\n",
    "\n",
    "\n",
    "\n",
    "#a = df['2023-01-20' <= df.index]\n",
    "#b = a[a.index <= '2023-01-27']\n",
    "#b['Close'] #.sum() * df.loc['2023-01-20', 'qnt']\n",
    "\n",
    "\n",
    "# df['dasset_quantity'].apply(lambda x: min(0, x)).shift(1).fillna(0)\n",
    "\n",
    "#df['dasset_quantity'].apply(lambda x: max(0, x)) + df['dasset_quantity'].apply(lambda x: min(0, x)).shift(1).fillna(0)"
   ]
  },
  {
   "cell_type": "code",
   "execution_count": 441,
   "metadata": {},
   "outputs": [
    {
     "data": {
      "text/plain": [
       "Date\n",
       "2024-01-02 05:00:00+00:00    0.0\n",
       "2024-01-03 05:00:00+00:00    0.0\n",
       "2024-01-04 05:00:00+00:00    0.0\n",
       "2024-01-05 05:00:00+00:00    0.0\n",
       "2024-01-08 05:00:00+00:00   -2.0\n",
       "                            ... \n",
       "2024-04-01 04:00:00+00:00    0.0\n",
       "2024-04-02 04:00:00+00:00    2.0\n",
       "2024-04-03 04:00:00+00:00    0.0\n",
       "2024-04-04 04:00:00+00:00    0.0\n",
       "2024-04-05 04:00:00+00:00   -2.0\n",
       "Name: dsignal, Length: 66, dtype: float64"
      ]
     },
     "execution_count": 441,
     "metadata": {},
     "output_type": "execute_result"
    }
   ],
   "source": [
    "#df[df['buy_action'] != 0][0].index\n",
    "#df.loc[(df['buy_action'] != None).index, 'buy_action']\n",
    "\n",
    "#first_buy_date = df.loc[df['buy_action'].notnull(), 'buy_action'].index[0]\n",
    "#df.loc[ df.index < first_buy_date, 'sell_action'] = None\n",
    "#df['sell_action']\n",
    "\n",
    "df.loc[df['dsignal'] > 0, 'dsignal'].index[0]\n",
    "\n"
   ]
  }
 ],
 "metadata": {
  "kernelspec": {
   "display_name": "Python 3",
   "language": "python",
   "name": "python3"
  },
  "language_info": {
   "codemirror_mode": {
    "name": "ipython",
    "version": 3
   },
   "file_extension": ".py",
   "mimetype": "text/x-python",
   "name": "python",
   "nbconvert_exporter": "python",
   "pygments_lexer": "ipython3",
   "version": "3.11.2"
  }
 },
 "nbformat": 4,
 "nbformat_minor": 2
}
